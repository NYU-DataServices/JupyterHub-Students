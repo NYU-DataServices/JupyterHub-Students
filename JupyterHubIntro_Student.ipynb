{
 "cells": [
  {
   "cell_type": "markdown",
   "id": "d273a176",
   "metadata": {},
   "source": [
    "<div>\n",
    "<img src=\"img/libraries_short_color.png\" width=\"350\" align=\"right\" alt=\"The NYU Libraries Logo.\"/>\n",
    "</div>\n",
    "\n",
    "# An Introduction to JupyterHub for Students\n",
    "\n",
    "Lesson plan developed by Shreemayi Sonti, Nicholas Wolf, Kirill Vine, and Andrew Brackett\n",
    "\n",
    "NYU Data Services | NYU Teaching & Learning\n",
    "\n",
    "This work is licensed under a Creative Commons Attribution-NonCommercial 4.0 International License.\n",
    "\n",
    "### Overview\n",
    "\n",
    "This session is designed for students who need an introduction to Jupyter Notebooks and especially the JupyterHub environment, and an overview of the specifics of NYU's installation of JupyterHub that you are encountering in your class. It presumes you have at least a general familiarity with what a Jupyter Notebook does (if not, see our [guide to Notebooks](https://guides.nyu.edu/data_management/jupyter-notebooks)), but need more knowledge about in-depth aspects of Notebooks and features of JupyterHub such as submitting assignments using NBGrader. \n",
    "\n",
    "Among the goals are to teach:\n",
    "\n",
    " - Review \"need to know\" features of Jupyter Notebooks and JupyterHub, including its interface, understanding kernels and environments using NBGrader, filling in and submitting assignments, and shortcut commands. \n",
    " - Special aspects of NYU's JupyterHub instance to understand, particularly around resource allocation and managing files\n",
    " - Debugging and new features of JupyterHub 4.0\n",
    "\n",
    "\n",
    "### Class Materials\n",
    "\n",
    "**Lesson Plan**\n",
    "\n",
    "This notebook is available to preview in static form [on Github](https://github.com/NYU-DataServices/JupyterHub-Students/blob/main/JupyterHubIntro_Student.ipynb). You can download the file by cloning the notebook as follows:\n",
    "\n",
    "<code>git clone https://github.com/NYU-DataServices/JupyterHub-Students.git</code>"
   ]
  },
  {
   "cell_type": "markdown",
   "id": "a37ff870",
   "metadata": {},
   "source": [
    "## 1.0 Accessing JupyterHub and Understanding the Interface\n",
    "\n",
    "### 1.1 Signing In and Using the Dashboard\n",
    "\n",
    "JupyterHub is a system for serving up both shared and individual Jupyter Notebooks, plus assignment and debugging tools, to users via a browser-based interface. Your class environment can be accessed by visiting its URL and logging in with Single Sign On and your NetID login. If using a browser such as Chrome or if previously authenticated with a Google product on your browser using a login other than your NYU NetID account, you will need to log out and login at the class JupyterHub URL using your NetID Single Sign On.\n",
    "\n",
    "Signing in brings you to an option to select a \"general\" or \"troubleshooting\" instance. Select \"general.\" Once the system starts up, you will be taken to the JupyterHub dashboard.\n",
    "\n",
    "At the dashboard you can select **General** or **Troubleshooting Only**. Select General.\n",
    "\n",
    "You will be presented with a Launcher tab and some tiled options in the main screen, and a file navigation pane to the right:\n",
    "\n",
    "<br>\n",
    "<div>\n",
    "<img src=\"img/nbgrader-1.png\" width=\"60%\" style=\"padding: 30px\" alt=\"A screenshot of the JupyterHub 4.0 landing dashboard.\"/>\n",
    "</div>\n",
    "\n",
    "Select the tile of the service you want. For example, for a new Python3 Notebook select Python3 (ipykernel) tile under the Notebook list (RStudio and Bash environments are available as well). New services will open in tabs in the main screen. \n",
    "\n",
    "If you need a refresher on the fundamentals of a Notebook and its concepts of cells, cell types, and running code, consult [this tutorial from Problem Solving with Python](https://problemsolvingwithpython.com/02-Jupyter-Notebooks/02.05-The-Jupyter-Notebook-Interface).\n",
    "\n",
    "### 1.2 Navigating Directories on the NYU JupyterHub Instance\n",
    "\n",
    "JupyterHub has the means to navigate directories and folders on your system, starting with your home or root, using the file browser on the lefthand pand (click the stacked bullet list icon on the left if the browser pane does not appear. Until you populate your instance with files, you will see this folder:\n",
    "\n",
    "<code>~/shared</code>\n",
    "\n",
    "This is a directory that is read-only; instructors can add files for you here, you can open Notebooks and edit and run the code in the Notebook but cannot save it in order to modify the Notebook.\n",
    "\n",
    "You may also see a folder called <code>~/class_materials</code> if your instructor is using Github integration to deliver materials."
   ]
  },
  {
   "cell_type": "markdown",
   "id": "1cd9f0db",
   "metadata": {},
   "source": [
    "## 2.0 Kernels and Environments\n",
    "\n",
    "### 2.1 Selecting Environments\n",
    "\n",
    "Within an open Python Notebook, your current active environment is shown at the top right of your interface, next to the circle/dot indicating whether a code cell is running. Various environments have different Python modules installed; environments are created and installed by instructors. Ensure you have the right environment activated by navigating in the main menu to Kernel >> Change Kernel and then using the dropdown to pick your environment.\n",
    "\n",
    "<br>\n",
    "<div>\n",
    "<img src=\"img/nbgrader-2.png\" width=\"60%\" style=\"padding: 30px\" alt=\"A screenshot of a Notebook showing the topright menu.\"/>\n",
    "</div>\n",
    "\n",
    "### 2.2 Resolving Frozen or Dead Kernels and Servers\n",
    "\n",
    "Interrupting a kernel (Kernel >> Interrupt Kernel, or press the stop button) will halt execution of code. If you select Kernel >> Restart you can revive a dead or unresponsive kernel.\n",
    "\n",
    "Another infrequent but possible issue is that your instance has died and must be restarted. If this happens, go to File >> Hub Control Panel in the main menu. This will open up a new tab in your browser with a blue Start My Server button. Press this to restart the server and continue.\n"
   ]
  },
  {
   "cell_type": "markdown",
   "id": "a17f471a",
   "metadata": {},
   "source": [
    "## 3.0 Managing Files and Watching Memory Usage\n",
    "\n",
    "### 3.1 Storage Limitations\n",
    "**Very Important!** Students are typically provisioned with 1 GB of storage on their JupyterHub instance. This can create limitations in how many (and of what size) files you can upload onto your JupyterHub system as raw data for your Notebooks and code to access. \n",
    "\n",
    "Please note that if you install packages on the fly (for example, installing using conda) for your code, that installation counts against your storage allotment. The better option for resource-needy packages is for instructors to create an environment for such needs.\n",
    "\n",
    "Similarly, most instances are set up with 500 MB of RAM. If you exceed your RAM, your script will fail to run. Plan accordingly when writing your code cells to use approaches such as chunking data ingest so as to avoid causing your kernel to die.\n",
    "\n",
    "### 3.2 Unzipping\n",
    "\n",
    "Uploading compressed files can be helpful when uploading a large number of small files all at once. However, students should consider not using compressed files to somehow save on space. The file will likely need to be uncompressed to be used on the system, eating up storage space. **Be sure you understand the size of an uncompressed set of files before uploading the compressed version and uncompressing it.** \n",
    "\n",
    "To uncompress an uploaded file, it is recommended to perform this work within a Notebook (for Python) or RStudio (for R) using one of the following:\n",
    "\n",
    " - <code>[ZipFile](https://docs.python.org/3/library/zipfile.html)</code> (for Python)\n",
    " - <code>[unzip](https://www.rdocumentation.org/packages/utils/versions/3.6.2/topics/unzip)</code> (for R)\n",
    "\n",
    "### 3.3 Troubleshooting Mode\n",
    "\n",
    "If you accidentally fill your storage to the point where you cannot remove uploaded files, restart your JupyterHub instance in Troubleshooting mode. This will give your environment a small boost in storage so that you are able to remove the files or packages needed to unlock your instance."
   ]
  },
  {
   "cell_type": "markdown",
   "id": "32921ccb",
   "metadata": {},
   "source": [
    "## 4.0 Assignments and NBGrader\n",
    "\n",
    "Assignments are made available to students by selecting from the main menu NBGrader >> Assignment List. This brings up a new tab with a list of all assignments available in the course.\n",
    "\n",
    "To complete an assignment:\n",
    "\n",
    " 1. Click on the Fetch blue button for an assignmet not started that you wish you begin. The assignment will appear in the list of downloaded assignments.\n",
    " \n",
    "<br>\n",
    "<div>\n",
    "<img src=\"img/nbgrader-8.png\" width=60%\" style=\"padding: 30px\" alt=\"A screenshot of the student's assignment list, with the fetch button highlighted and which the student will select.\"/>\n",
    "</div>\n",
    "\n",
    " 2. Click on the blue linked name of the assignment, opening it up in a new tab to work on. An assignment will look like a typical Jupyter Notebook, but will have different types of tasks to perform depending on the nature of the assignment. The format and instructions attached to the cells determine what type of task you must perform. You may be asked to:\n",
    " \n",
    " - Fill in a single cell with a text answer (such as your name, or response to a question)\n",
    " - Add multiple cells (using the plus + button at the top of Notebooks) and type code into those cells that perform a certain task\n",
    " - Fill in missing code in a cell (for example, complete a Python function) so that the code block produces a certain outcome.\n",
    " - Review cells with assert statements that tell you what output parameters should be produced by provided input parameters to the function you have composed.\n",
    " \n",
    "**Fetch and open the assignment \"JupyterHub_ExampleAssignment\" in your assignments list now to see an example assignment**\n",
    "\n",
    " 3. After completing and saving the Notebook assignment, close it and return to the Assignments tab. Click on Validate for the completed assignment to see if it passes any self-grading code tests (if provided by the instructor). If it passes, it success message for validating results will appear.\n",
    " \n",
    "<br>\n",
    "<div>\n",
    "<img src=\"img/nbgrader-9.png\" width=\"60%\" style=\"padding: 30px\" alt=\"A screenshot of the assignments dashboard for students, highlighting the validate option.\"/>\n",
    "</div>\n",
    "\n",
    " 4. Once an instructor reviews your assignment, select the Feetch Feedback button (or click \"view feedback\") to see responses."
   ]
  },
  {
   "cell_type": "markdown",
   "id": "28b80737-6808-48ee-9087-b612afbc1b74",
   "metadata": {},
   "source": [
    "## 5.0 Making the Most of Jupyter Notebook Capabilities\n",
    "\n",
    "### 5.1 Keyboard Shortcuts\n",
    "\n",
    "One can view available shortcut keyboard commands by selecting Help >> Show Keyboard Shortcuts from the main menu. Here is an article that covers a comprehensive list of frequently used Jupyter Notebook short cuts: [https://noteable.io/blog/jupyter-notebook-shortcuts-boost-productivity](https://noteable.io/blog/jupyter-notebook-shortcuts-boost-productivity). Some helpful shortcuts, some less well known, include:\n",
    "\n",
    " - Esc (to enter command mode) + L (shift + l): toggle line numbers on/off in a cell\n",
    " - Ctrl + Shift + -(minus sign): split cell into two at location of cursor\n",
    " - Esc + y: toggle cell to code\n",
    " - Esc + m: toggle cell to markdown\n",
    " - Esc + b: add cell below\n",
    " - Esc + a: add cell above\n",
    "\n",
    "### 5.2 Magic Commands\n",
    "\n",
    "Run <code>%lsmagic</code> in a code cell to list all the magic commands. There are two types:\n",
    "\n",
    " 1. Line commands, preceded by a single <code>%</code>, are single-line commands that can be run before resuming the normal cell language (usually Python)\n",
    " 2. Cell commands, preceded by a double <code>%%</code> plus a language or markup system that the remaining instructions in the cell below the cell command will be written in. For example, in a Notebook predominantly in Python you could add a cell that starts with <code>%%bash</code> and the remainder of that cell would be written as a bash script.\n",
    "\n",
    "Here are some examples:"
   ]
  },
  {
   "cell_type": "markdown",
   "id": "9bfd3c7b-b902-4598-8394-d9598c04ca54",
   "metadata": {},
   "source": [
    "*Line Command*"
   ]
  },
  {
   "cell_type": "code",
   "execution_count": null,
   "id": "21cfb0e9-46eb-4957-83ae-16ab0c436676",
   "metadata": {},
   "outputs": [],
   "source": [
    "%pwd  # returns the home directory of the system this Notebook on JupyterHub is operating from."
   ]
  },
  {
   "cell_type": "markdown",
   "id": "5242eb1d-9569-4f09-a373-701b387df7fb",
   "metadata": {},
   "source": [
    "*Cell Command*"
   ]
  },
  {
   "cell_type": "code",
   "execution_count": 2,
   "id": "899708a6-f016-48bc-8fba-d755566ecdbc",
   "metadata": {},
   "outputs": [
    {
     "data": {
      "text/html": [
       "\n",
       "<head>\n",
       "<title>My Cell Command Example</title>\n",
       "</head>\n",
       "<body>\n",
       " <h5>Cell Commands</h5>\n",
       "<p><b>Cell commands</b> can be useful ways to incorporate extended lines of code in languages other than Python in a Notebook that is otherwise exclusively in Python (or Julia, or R, etc.)</p>\n",
       "<p>However, do not overuse it if you would be better served to use, for example, RStudio to convey your analysis.</p>\n",
       "</body>\n"
      ],
      "text/plain": [
       "<IPython.core.display.HTML object>"
      ]
     },
     "metadata": {},
     "output_type": "display_data"
    }
   ],
   "source": [
    "%%html\n",
    "\n",
    "<head>\n",
    "<title>My Cell Command Example</title>\n",
    "</head>\n",
    "<body>\n",
    " <h5>Cell Commands</h5>\n",
    "<p><b>Cell commands</b> can be useful ways to incorporate extended lines of code in languages other than Python in a Notebook that is otherwise exclusively in Python (or Julia, or R, etc.)</p>\n",
    "<p>However, do not overuse it if you would be better served to use, for example, RStudio to convey your analysis.</p>\n",
    "</body>"
   ]
  },
  {
   "cell_type": "markdown",
   "id": "f88071e0",
   "metadata": {},
   "source": [
    "## 6.0 Debugger"
   ]
  },
  {
   "cell_type": "markdown",
   "id": "0341a8c7-1b16-489b-88bc-a5088dfb040e",
   "metadata": {},
   "source": [
    "Full-fledged walkthrough of debugging in the new JupyterHub 4 coming soon. In the meantime, a basic overview debugging functionality is available at the official docs: [https://jupyterlab.readthedocs.io/en/stable/user/debugger.html](https://jupyterlab.readthedocs.io/en/stable/user/debugger.html)"
   ]
  },
  {
   "cell_type": "code",
   "execution_count": null,
   "id": "27ec97f6-90ab-444e-b902-5fe8f94bf2d6",
   "metadata": {},
   "outputs": [],
   "source": []
  }
 ],
 "metadata": {
  "kernelspec": {
   "display_name": "Python [conda env:tutorialenvironment]",
   "language": "python",
   "name": "conda-env-tutorialenvironment-py"
  },
  "language_info": {
   "codemirror_mode": {
    "name": "ipython",
    "version": 3
   },
   "file_extension": ".py",
   "mimetype": "text/x-python",
   "name": "python",
   "nbconvert_exporter": "python",
   "pygments_lexer": "ipython3",
   "version": "3.11.6"
  }
 },
 "nbformat": 4,
 "nbformat_minor": 5
}
