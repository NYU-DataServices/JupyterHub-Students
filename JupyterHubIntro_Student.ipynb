{
 "cells": [
  {
   "cell_type": "markdown",
   "id": "d273a176",
   "metadata": {},
   "source": [
    "<div>\n",
    "<img src=\"img/libraries_short_color.png\" width=\"350\" align=\"right\" alt=\"The NYU Libraries Logo.\"/>\n",
    "</div>\n",
    "\n",
    "# An Introduction to JupyterHub for Students\n",
    "\n",
    "Lesson plan developed by Shreemayi Sonti, Nicholas Wolf, Wasif Hyder, Kirill Vine, and Andrew Brackett\n",
    "\n",
    "NYU Data Services | NYU Teaching & Learning\n",
    "\n",
    "This work is licensed under a Creative Commons Attribution-NonCommercial 4.0 International License.\n",
    "\n",
    "### Overview\n",
    "\n",
    "This session is designed for students who need an introduction to Jupyter Notebooks and especially the JupyterHub environment and an overview of the specifics of NYU's installation of JupyterHub. It presumes you have at least a general familiarity with what a Jupyter Notebook does (if not, see our [guide to Notebooks](https://guides.nyu.edu/data_management/jupyter-notebooks)), but need more knowledge about in-depth aspects of Notebooks and features of JupyterHub such as submitting assignments using NBGrader. \n",
    "\n",
    "Among the goals are to teach:\n",
    "\n",
    " - Review \"need to know\" features of Jupyter Notebooks and JupyterHub, including its interface, understanding kernels and environments using NBGrader, filling in and submitting assignments, and shortcut commands. \n",
    " - Special aspects of NYU's JupyterHub instance to understand, particularly around resource allocation and managing files\n",
    " - Debugging and new features of JupyterHub 4.0\n",
    "\n",
    "\n",
    "### Class Materials\n",
    "\n",
    "**Lesson Plan**\n",
    "\n",
    "This notebook is available to preview in static form at [this link](ADD LINK). You can download the file by cloning the notebook as follows:\n",
    "\n",
    "<code>git clone https://github.com/NYU-DataServices/JupyterHub-Students.git</code>"
   ]
  },
  {
   "cell_type": "markdown",
   "id": "a37ff870",
   "metadata": {},
   "source": [
    "## 1.0 Accessing JupyterHub and Understanding the Interface\n",
    "\n",
    "### 1.1 Signing In and Using the Dashboard\n",
    "\n",
    "JupyterHub is a system for serving up both shared and individual Jupyter Notebooks, plus assignment and debugging tools, to users via a browser-based interface. Your class environment can be accessed by visiting its URL and logging in with Single Sign On and your NetID login. If using a browser such as Chrome or if previously authenticated with a Google product on your browser using a login other than your NYU NetID account, you will need to log out and login at the class JupyterHub URL using your NetID Single Sign On.\n",
    "\n",
    "Signing in brings you to an option to select a \"general\" or \"troubleshooting\" instance. Select \"general.\" Once the system starts up, you will be taken to the JupyterHub dashboard.\n",
    "\n",
    "At the dashboard you can select General or Troubleshooting Only. Select General.\n",
    "\n",
    "You will be presented with a Launcher tab and some tiled options in the main screen, and a file navigation pane to the right:\n",
    "\n",
    "<br>\n",
    "<div>\n",
    "<img src=\"img/nbgrader-1.png\" width=\"80%\" style=\"padding: 30px\" alt=\"A screenshot of the JupyterHub 4.0 landing dashboard.\"/>\n",
    "</div>\n",
    "\n",
    "Select the tile of the service you want. For example, for a new Python3 Notebook select Python3 (ipykernel) tile under the Notebook list (RStudio and Bash environments are available as well). New services will open in tabs in the main screen. \n",
    "\n",
    "If you need a refresher on the fundamentals of a Notebook and its concepts of cells, cell types, and running code, consult [this tutorial from Problem Solving with Python](https://problemsolvingwithpython.com/02-Jupyter-Notebooks/02.05-The-Jupyter-Notebook-Interface).\n",
    "\n",
    "### 1.2 Files and Directories\n",
    "\n",
    "JupyterHub has the means to navigate directories and folders on your system, starting with your home or root. Initially you will see this folder:\n",
    "\n",
    "<code>~/shared</code>\n",
    "\n",
    "This is a directory that is read-only; instructors can add files for you here, you can open Notebooks and edit and run the code in the Notebook but cannot save it in order to modify the Notebook.\n"
   ]
  },
  {
   "cell_type": "markdown",
   "id": "1cd9f0db",
   "metadata": {},
   "source": [
    "## 2.0 Kernels and Environments\n",
    "\n",
    "Within an open Python Notebook, your current active environment is show at the top right of your interface, next to the circle/dot indicating whether a code cell is running. Various environments have different Python modules installed; environments are created and installed by instrutors. Ensure you have the right environment activated by navigating in the main menu to Kernel >> Change Kernel and then hovering over your options.\n",
    "\n",
    "<br>\n",
    "<div>\n",
    "<img src=\"img/nbgrader-2.png\" width=\"80%\" style=\"padding: 30px\" alt=\"A screenshot of a Notebook showing the topright menu.\"/>\n",
    "</div>\n",
    "\n",
    "\n",
    "Interupting a kernel will halt execution of code. If you select Kernel >> Restart you can revive a dead kernel.\n",
    "\n",
    "Other common issues requiring a reset include a kernel that has died and must be restarted (select Kernel >> Restart) or a server that has shut down.\n",
    "\n",
    "If your server stops (or freezes), go to File >> Hub Control Panel in the main menu. This will open up a new tab in your browswer with a blue Start My Server button. Press this to restart the server and continue.\n",
    "\n"
   ]
  },
  {
   "cell_type": "markdown",
   "id": "a17f471a",
   "metadata": {},
   "source": [
    "## 3.0 Managing Files and Watching Memory Usage\n",
    "\n",
    "### 3.1 Storage Limitations\n",
    "Keep in mind that students are typically provisioned with 1 GB of storage on their JupyterHub instance. This can create limitations in how many (and of what size) files you can upload onto your JupyterHub system as raw data for your Notebooks and code to access. \n",
    "\n",
    "Similarly, most instances are set up with 500 MB of RAM. If you exceed your RAM, your script will fail to run. Plan accordingly when writing your code cells to use approaches such as chunking data ingest so as to avoid causing your kernel to die.\n",
    "\n",
    "### 3.2 Unzipping(?)"
   ]
  },
  {
   "cell_type": "markdown",
   "id": "32921ccb",
   "metadata": {},
   "source": [
    "## 4.0 Assignments and NBGrader\n",
    "\n",
    "Assignments are made available to students by selecting from the main menu NBGrader >> Assignment List. This bring up a new tab with a list of all assignments available in the course.\n",
    "\n",
    "To complete an assignment:\n",
    "\n",
    " 1. Click on the Fetch blue button for an assignmet not started that you wish you begin. The assignment will appear in the list of downloaded assignments.\n",
    " \n",
    "<br>\n",
    "<div>\n",
    "<img src=\"img/nbgrader-8.png\" width=\"100%\" style=\"padding: 30px\" alt=\"A screenshot of the student's assignment list, with the fetch button highlighted and which the student will select.\"/>\n",
    "</div>\n",
    "\n",
    " 2. Click on the blue linked name of the assignment, opening it up in a new tab to work on. An assignment will look like a typical Jupyter Notebook, but will have different types of tasks to perform depending on the nature of the assignment. The format and instructions attached to the cells determine what type of task you must perform. You may be asked to:\n",
    " \n",
    " - Fill in a single cell with a text answer (such as your name, or response to a question)\n",
    " - Add multiple cells (using the plus + button at the top of Notebooks) and type code into those cells that perform a certain task\n",
    " - Fill in missing code in a cell (for example, complete a Python function) so that the code block produces a certain outcome.\n",
    " - Review cells with assert statements that tell you what output parameters should be produced by provided input parameters to the function you have composed.\n",
    " \n",
    "**Fetch and open the assignment \"JupyterHub_ExampleAssignment\" in your assignments list now to see an example assignment**\n",
    "\n",
    " 3. After completing and saving the Notebook assignment, close it and return to the Assignments tab. Click on Validate for the completed assignment to see if it passes any self-grading code tests (if provided by the instructor). If it passes, it success message for validating results will appear.\n",
    " \n",
    "<br>\n",
    "<div>\n",
    "<img src=\"img/nbgrader-9.png\" width=\"100%\" style=\"padding: 30px\" alt=\"A screenshot of the assignments dashboard for students, highlighting the validate option.\"/>\n",
    "</div>\n",
    "\n",
    " 4. Once an instructor reviews your assignment, select the Feetch Feedback button (or click \"view feedback\") to see responses."
   ]
  },
  {
   "cell_type": "markdown",
   "id": "d1af111a",
   "metadata": {},
   "source": [
    "## 5.0 Making the Most of Jupyter Notebook Capabilities\n",
    "\n",
    "### 5.1 Keyboard Shortcuts\n",
    "\n",
    "\n",
    "### 5.2 Magic Commands\n",
    "\n",
    "\n"
   ]
  },
  {
   "cell_type": "markdown",
   "id": "f88071e0",
   "metadata": {},
   "source": [
    "## 6.0 Debugger"
   ]
  }
 ],
 "metadata": {
  "kernelspec": {
   "display_name": "Python 3 (ipykernel)",
   "language": "python",
   "name": "python3"
  },
  "language_info": {
   "codemirror_mode": {
    "name": "ipython",
    "version": 3
   },
   "file_extension": ".py",
   "mimetype": "text/x-python",
   "name": "python",
   "nbconvert_exporter": "python",
   "pygments_lexer": "ipython3",
   "version": "3.9.12"
  }
 },
 "nbformat": 4,
 "nbformat_minor": 5
}
